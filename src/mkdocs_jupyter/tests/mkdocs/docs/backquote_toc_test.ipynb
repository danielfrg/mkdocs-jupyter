{
 "cells": [
  {
   "cell_type": "markdown",
   "metadata": {},
   "source": [
    "# Multiple Backquote tests\n",
    "<!-- # Comment Test -->\n",
    "<!-- These comments must be omitted -->\n",
    "\n",
    "## Multiple Backquote test #1\n",
    "test text 1 start\n",
    "```cpp #include <iostream>```\n",
    "test text 1 end\n",
    "\n",
    "## Multiple Backquote test #2\n",
    "test text #2 start\n",
    "```cpp\n",
    "#include <iostream>```\n",
    "test text #2 end\n",
    "\n",
    "## Multiple Backquote test #3\n",
    "test text #3 start\n",
    "```cpp\n",
    "#include <iostream>\n",
    "```\n",
    "test text #3 end"
   ]
  },
  {
   "cell_type": "code",
   "execution_count": null,
   "metadata": {},
   "outputs": [],
   "source": [
    "# This code node must be omitted during traversal"
   ]
  },
  {
   "cell_type": "markdown",
   "metadata": {},
   "source": [
    "# Single Backquote tests\n",
    "<!-- # Comment Test -->\n",
    "<!-- These comments must be omitted -->\n",
    "\n",
    "## Single Backquote test #1\n",
    "test text 1 start\n",
    "`cpp #include <iostream>`\n",
    "test text 1 end\n",
    "\n",
    "## Single Backquote test #2\n",
    "test text #2 start\n",
    "`cpp\n",
    "#include <iostream>`\n",
    "test text #2 end\n",
    "\n",
    "## Single Backquote test #3\n",
    "test text #3 start\n",
    "`cpp\n",
    "#include <iostream>\n",
    "`\n",
    "test text #3 end"
   ]
  },
  {
   "cell_type": "markdown",
   "metadata": {},
   "source": [
    "### Header test 1\n",
    "Header test 1 text\n",
    "\n",
    "# Header test 2\n",
    "Header test 2 text\n",
    "\n",
    "### Header test 3\n",
    "Header test 3 text"
   ]
  }
 ],
 "metadata": {
  "kernelspec": {
   "display_name": "Python 3",
   "language": "python",
   "name": "python3"
  },
  "language_info": {
   "name": "python",
   "version": "3.12.1"
  }
 },
 "nbformat": 4,
 "nbformat_minor": 2
}
